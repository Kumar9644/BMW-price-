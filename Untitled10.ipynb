{
  "nbformat": 4,
  "nbformat_minor": 0,
  "metadata": {
    "colab": {
      "name": "Untitled10.ipynb",
      "provenance": []
    },
    "kernelspec": {
      "name": "python3",
      "display_name": "Python 3"
    },
    "language_info": {
      "name": "python"
    },
    "accelerator": "GPU"
  },
  "cells": [
    {
      "cell_type": "code",
      "metadata": {
        "id": "s1O9cmp78JdN"
      },
      "source": [
        "import pandas as pd \n",
        "import numpy as np\n",
        "import seaborn as  sns\n",
        "import matplotlib.pyplot as plt\n",
        "from sklearn.pipeline import Pipeline\n",
        "from sklearn.preprocessing import LabelEncoder,MinMaxScaler,StandardScaler,OneHotEncoder\n",
        "from sklearn.linear_model import LinearRegression\n",
        "from sklearn.preprocessing import PolynomialFeatures\n",
        "from sklearn.tree import DecisionTreeRegressor\n",
        "from sklearn.svm import SVR\n",
        "from sklearn.metrics import *\n",
        "from sklearn.ensemble import RandomForestRegressor\n",
        "from sklearn.compose import ColumnTransformer\n",
        "from sklearn.preprocessing import PowerTransformer"
      ],
      "execution_count": null,
      "outputs": []
    },
    {
      "cell_type": "code",
      "metadata": {
        "id": "QjpRmyR78eJm"
      },
      "source": [
        "df=pd.read_csv('bmw.csv')"
      ],
      "execution_count": null,
      "outputs": []
    },
    {
      "cell_type": "code",
      "metadata": {
        "colab": {
          "base_uri": "https://localhost:8080/",
          "height": 204
        },
        "id": "PcFqSz4Q8kH0",
        "outputId": "fd7f4487-a03e-4c14-f69b-c95e0de323b1"
      },
      "source": [
        "df.head()"
      ],
      "execution_count": null,
      "outputs": [
        {
          "output_type": "execute_result",
          "data": {
            "text/html": [
              "<div>\n",
              "<style scoped>\n",
              "    .dataframe tbody tr th:only-of-type {\n",
              "        vertical-align: middle;\n",
              "    }\n",
              "\n",
              "    .dataframe tbody tr th {\n",
              "        vertical-align: top;\n",
              "    }\n",
              "\n",
              "    .dataframe thead th {\n",
              "        text-align: right;\n",
              "    }\n",
              "</style>\n",
              "<table border=\"1\" class=\"dataframe\">\n",
              "  <thead>\n",
              "    <tr style=\"text-align: right;\">\n",
              "      <th></th>\n",
              "      <th>model</th>\n",
              "      <th>year</th>\n",
              "      <th>price</th>\n",
              "      <th>transmission</th>\n",
              "      <th>mileage</th>\n",
              "      <th>fuelType</th>\n",
              "      <th>tax</th>\n",
              "      <th>mpg</th>\n",
              "      <th>engineSize</th>\n",
              "    </tr>\n",
              "  </thead>\n",
              "  <tbody>\n",
              "    <tr>\n",
              "      <th>0</th>\n",
              "      <td>5 Series</td>\n",
              "      <td>2014</td>\n",
              "      <td>11200</td>\n",
              "      <td>Automatic</td>\n",
              "      <td>67068</td>\n",
              "      <td>Diesel</td>\n",
              "      <td>125</td>\n",
              "      <td>57.6</td>\n",
              "      <td>2.0</td>\n",
              "    </tr>\n",
              "    <tr>\n",
              "      <th>1</th>\n",
              "      <td>6 Series</td>\n",
              "      <td>2018</td>\n",
              "      <td>27000</td>\n",
              "      <td>Automatic</td>\n",
              "      <td>14827</td>\n",
              "      <td>Petrol</td>\n",
              "      <td>145</td>\n",
              "      <td>42.8</td>\n",
              "      <td>2.0</td>\n",
              "    </tr>\n",
              "    <tr>\n",
              "      <th>2</th>\n",
              "      <td>5 Series</td>\n",
              "      <td>2016</td>\n",
              "      <td>16000</td>\n",
              "      <td>Automatic</td>\n",
              "      <td>62794</td>\n",
              "      <td>Diesel</td>\n",
              "      <td>160</td>\n",
              "      <td>51.4</td>\n",
              "      <td>3.0</td>\n",
              "    </tr>\n",
              "    <tr>\n",
              "      <th>3</th>\n",
              "      <td>1 Series</td>\n",
              "      <td>2017</td>\n",
              "      <td>12750</td>\n",
              "      <td>Automatic</td>\n",
              "      <td>26676</td>\n",
              "      <td>Diesel</td>\n",
              "      <td>145</td>\n",
              "      <td>72.4</td>\n",
              "      <td>1.5</td>\n",
              "    </tr>\n",
              "    <tr>\n",
              "      <th>4</th>\n",
              "      <td>7 Series</td>\n",
              "      <td>2014</td>\n",
              "      <td>14500</td>\n",
              "      <td>Automatic</td>\n",
              "      <td>39554</td>\n",
              "      <td>Diesel</td>\n",
              "      <td>160</td>\n",
              "      <td>50.4</td>\n",
              "      <td>3.0</td>\n",
              "    </tr>\n",
              "  </tbody>\n",
              "</table>\n",
              "</div>"
            ],
            "text/plain": [
              "       model  year  price transmission  mileage fuelType  tax   mpg  engineSize\n",
              "0   5 Series  2014  11200    Automatic    67068   Diesel  125  57.6         2.0\n",
              "1   6 Series  2018  27000    Automatic    14827   Petrol  145  42.8         2.0\n",
              "2   5 Series  2016  16000    Automatic    62794   Diesel  160  51.4         3.0\n",
              "3   1 Series  2017  12750    Automatic    26676   Diesel  145  72.4         1.5\n",
              "4   7 Series  2014  14500    Automatic    39554   Diesel  160  50.4         3.0"
            ]
          },
          "metadata": {
            "tags": []
          },
          "execution_count": 21
        }
      ]
    },
    {
      "cell_type": "code",
      "metadata": {
        "colab": {
          "base_uri": "https://localhost:8080/"
        },
        "id": "daMclrNi8rFf",
        "outputId": "d43d3898-d1a9-4030-faf0-76205fe1bf85"
      },
      "source": [
        "df.isnull().sum()"
      ],
      "execution_count": null,
      "outputs": [
        {
          "output_type": "execute_result",
          "data": {
            "text/plain": [
              "model           0\n",
              "year            0\n",
              "price           0\n",
              "transmission    0\n",
              "mileage         0\n",
              "fuelType        0\n",
              "tax             0\n",
              "mpg             0\n",
              "engineSize      0\n",
              "dtype: int64"
            ]
          },
          "metadata": {
            "tags": []
          },
          "execution_count": 22
        }
      ]
    },
    {
      "cell_type": "code",
      "metadata": {
        "colab": {
          "base_uri": "https://localhost:8080/",
          "height": 405
        },
        "id": "eO09VWVa8_bO",
        "outputId": "0e80fe8e-e08d-4474-f42d-e2851ce5908e"
      },
      "source": [
        "plt.figure(figsize=(18,6))\n",
        "sns.barplot(x='model',y='price',data=df)"
      ],
      "execution_count": null,
      "outputs": [
        {
          "output_type": "execute_result",
          "data": {
            "text/plain": [
              "<matplotlib.axes._subplots.AxesSubplot at 0x7f95e29c8810>"
            ]
          },
          "metadata": {
            "tags": []
          },
          "execution_count": 23
        },
        {
          "output_type": "display_data",
          "data": {
            "image/png": "[encoded data removed]",
            "text/plain": [
              "<Figure size 1296x432 with 1 Axes>"
            ]
          },
          "metadata": {
            "tags": [],
            "needs_background": "light"
          }
        }
      ]
    },
    {
      "cell_type": "code",
      "metadata": {
        "colab": {
          "base_uri": "https://localhost:8080/"
        },
        "id": "zFH40ySk93jV",
        "outputId": "9e8d5705-d7ad-489f-823e-cb94fb6c8a70"
      },
      "source": [
        "df['engineSize'].value_counts()"
      ],
      "execution_count": null,
      "outputs": [
        {
          "output_type": "execute_result",
          "data": {
            "text/plain": [
              "2.0    6575\n",
              "3.0    2458\n",
              "1.5    1463\n",
              "1.6     109\n",
              "4.4      79\n",
              "0.0      47\n",
              "2.5      14\n",
              "0.6       7\n",
              "4.0       6\n",
              "2.2       6\n",
              "3.2       5\n",
              "1.9       5\n",
              "6.6       2\n",
              "2.8       2\n",
              "1.0       1\n",
              "5.0       1\n",
              "3.5       1\n",
              "Name: engineSize, dtype: int64"
            ]
          },
          "metadata": {
            "tags": []
          },
          "execution_count": 24
        }
      ]
    },
    {
      "cell_type": "code",
      "metadata": {
        "colab": {
          "base_uri": "https://localhost:8080/",
          "height": 514
        },
        "id": "-VZK4_qU-GWj",
        "outputId": "d7da9fed-8778-4b80-a27a-0e387b0bdf10"
      },
      "source": [
        "plt.figure(figsize=(18,8))\n",
        "sns.barplot(x='engineSize',y='price',data=df,hue='fuelType')"
      ],
      "execution_count": null,
      "outputs": [
        {
          "output_type": "execute_result",
          "data": {
            "text/plain": [
              "<matplotlib.axes._subplots.AxesSubplot at 0x7f95f5bdd090>"
            ]
          },
          "metadata": {
            "tags": []
          },
          "execution_count": 25
        },
        {
          "output_type": "display_data",
          "data": {
            "image/png": "[encoded data removed]",
            "text/plain": [
              "<Figure size 1296x576 with 1 Axes>"
            ]
          },
          "metadata": {
            "tags": [],
            "needs_background": "light"
          }
        }
      ]
    },
    {
      "cell_type": "code",
      "metadata": {
        "colab": {
          "base_uri": "https://localhost:8080/",
          "height": 1000
        },
        "id": "0q4aulH0_Has",
        "outputId": "05711986-9947-4948-e2bd-e6d74732429e"
      },
      "source": [
        "df[df['engineSize']==0.0]"
      ],
      "execution_count": null,
      "outputs": [
        {
          "output_type": "execute_result",
          "data": {
            "text/html": [
              "<div>\n",
              "<style scoped>\n",
              "    .dataframe tbody tr th:only-of-type {\n",
              "        vertical-align: middle;\n",
              "    }\n",
              "\n",
              "    .dataframe tbody tr th {\n",
              "        vertical-align: top;\n",
              "    }\n",
              "\n",
              "    .dataframe thead th {\n",
              "        text-align: right;\n",
              "    }\n",
              "</style>\n",
              "<table border=\"1\" class=\"dataframe\">\n",
              "  <thead>\n",
              "    <tr style=\"text-align: right;\">\n",
              "      <th></th>\n",
              "      <th>model</th>\n",
              "      <th>year</th>\n",
              "      <th>price</th>\n",
              "      <th>transmission</th>\n",
              "      <th>mileage</th>\n",
              "      <th>fuelType</th>\n",
              "      <th>tax</th>\n",
              "      <th>mpg</th>\n",
              "      <th>engineSize</th>\n",
              "    </tr>\n",
              "  </thead>\n",
              "  <tbody>\n",
              "    <tr>\n",
              "      <th>621</th>\n",
              "      <td>i3</td>\n",
              "      <td>2017</td>\n",
              "      <td>19998</td>\n",
              "      <td>Automatic</td>\n",
              "      <td>41949</td>\n",
              "      <td>Hybrid</td>\n",
              "      <td>140</td>\n",
              "      <td>470.8</td>\n",
              "      <td>0.0</td>\n",
              "    </tr>\n",
              "    <tr>\n",
              "      <th>778</th>\n",
              "      <td>i3</td>\n",
              "      <td>2017</td>\n",
              "      <td>19998</td>\n",
              "      <td>Automatic</td>\n",
              "      <td>41146</td>\n",
              "      <td>Hybrid</td>\n",
              "      <td>0</td>\n",
              "      <td>470.8</td>\n",
              "      <td>0.0</td>\n",
              "    </tr>\n",
              "    <tr>\n",
              "      <th>780</th>\n",
              "      <td>i3</td>\n",
              "      <td>2017</td>\n",
              "      <td>21898</td>\n",
              "      <td>Automatic</td>\n",
              "      <td>10839</td>\n",
              "      <td>Hybrid</td>\n",
              "      <td>0</td>\n",
              "      <td>470.8</td>\n",
              "      <td>0.0</td>\n",
              "    </tr>\n",
              "    <tr>\n",
              "      <th>1866</th>\n",
              "      <td>i3</td>\n",
              "      <td>2017</td>\n",
              "      <td>19980</td>\n",
              "      <td>Automatic</td>\n",
              "      <td>26965</td>\n",
              "      <td>Hybrid</td>\n",
              "      <td>140</td>\n",
              "      <td>470.8</td>\n",
              "      <td>0.0</td>\n",
              "    </tr>\n",
              "    <tr>\n",
              "      <th>2352</th>\n",
              "      <td>i3</td>\n",
              "      <td>2016</td>\n",
              "      <td>19490</td>\n",
              "      <td>Automatic</td>\n",
              "      <td>8421</td>\n",
              "      <td>Hybrid</td>\n",
              "      <td>0</td>\n",
              "      <td>470.8</td>\n",
              "      <td>0.0</td>\n",
              "    </tr>\n",
              "    <tr>\n",
              "      <th>3277</th>\n",
              "      <td>i3</td>\n",
              "      <td>2016</td>\n",
              "      <td>16482</td>\n",
              "      <td>Automatic</td>\n",
              "      <td>43695</td>\n",
              "      <td>Hybrid</td>\n",
              "      <td>0</td>\n",
              "      <td>470.8</td>\n",
              "      <td>0.0</td>\n",
              "    </tr>\n",
              "    <tr>\n",
              "      <th>3628</th>\n",
              "      <td>i3</td>\n",
              "      <td>2015</td>\n",
              "      <td>14285</td>\n",
              "      <td>Automatic</td>\n",
              "      <td>65800</td>\n",
              "      <td>Hybrid</td>\n",
              "      <td>0</td>\n",
              "      <td>470.8</td>\n",
              "      <td>0.0</td>\n",
              "    </tr>\n",
              "    <tr>\n",
              "      <th>3913</th>\n",
              "      <td>i3</td>\n",
              "      <td>2017</td>\n",
              "      <td>18500</td>\n",
              "      <td>Automatic</td>\n",
              "      <td>36429</td>\n",
              "      <td>Hybrid</td>\n",
              "      <td>0</td>\n",
              "      <td>470.8</td>\n",
              "      <td>0.0</td>\n",
              "    </tr>\n",
              "    <tr>\n",
              "      <th>4100</th>\n",
              "      <td>i3</td>\n",
              "      <td>2017</td>\n",
              "      <td>19495</td>\n",
              "      <td>Automatic</td>\n",
              "      <td>17338</td>\n",
              "      <td>Hybrid</td>\n",
              "      <td>135</td>\n",
              "      <td>470.8</td>\n",
              "      <td>0.0</td>\n",
              "    </tr>\n",
              "    <tr>\n",
              "      <th>4109</th>\n",
              "      <td>i3</td>\n",
              "      <td>2015</td>\n",
              "      <td>17481</td>\n",
              "      <td>Automatic</td>\n",
              "      <td>9886</td>\n",
              "      <td>Hybrid</td>\n",
              "      <td>0</td>\n",
              "      <td>470.8</td>\n",
              "      <td>0.0</td>\n",
              "    </tr>\n",
              "    <tr>\n",
              "      <th>4211</th>\n",
              "      <td>i3</td>\n",
              "      <td>2015</td>\n",
              "      <td>15498</td>\n",
              "      <td>Automatic</td>\n",
              "      <td>33931</td>\n",
              "      <td>Hybrid</td>\n",
              "      <td>0</td>\n",
              "      <td>470.8</td>\n",
              "      <td>0.0</td>\n",
              "    </tr>\n",
              "    <tr>\n",
              "      <th>4749</th>\n",
              "      <td>i3</td>\n",
              "      <td>2014</td>\n",
              "      <td>15450</td>\n",
              "      <td>Automatic</td>\n",
              "      <td>42479</td>\n",
              "      <td>Hybrid</td>\n",
              "      <td>0</td>\n",
              "      <td>470.8</td>\n",
              "      <td>0.0</td>\n",
              "    </tr>\n",
              "    <tr>\n",
              "      <th>4866</th>\n",
              "      <td>i3</td>\n",
              "      <td>2014</td>\n",
              "      <td>14495</td>\n",
              "      <td>Automatic</td>\n",
              "      <td>34539</td>\n",
              "      <td>Hybrid</td>\n",
              "      <td>0</td>\n",
              "      <td>470.8</td>\n",
              "      <td>0.0</td>\n",
              "    </tr>\n",
              "    <tr>\n",
              "      <th>5176</th>\n",
              "      <td>i3</td>\n",
              "      <td>2017</td>\n",
              "      <td>21444</td>\n",
              "      <td>Automatic</td>\n",
              "      <td>22063</td>\n",
              "      <td>Hybrid</td>\n",
              "      <td>0</td>\n",
              "      <td>470.8</td>\n",
              "      <td>0.0</td>\n",
              "    </tr>\n",
              "    <tr>\n",
              "      <th>5502</th>\n",
              "      <td>i3</td>\n",
              "      <td>2017</td>\n",
              "      <td>18995</td>\n",
              "      <td>Automatic</td>\n",
              "      <td>33021</td>\n",
              "      <td>Hybrid</td>\n",
              "      <td>0</td>\n",
              "      <td>470.8</td>\n",
              "      <td>0.0</td>\n",
              "    </tr>\n",
              "    <tr>\n",
              "      <th>5620</th>\n",
              "      <td>i3</td>\n",
              "      <td>2017</td>\n",
              "      <td>21490</td>\n",
              "      <td>Automatic</td>\n",
              "      <td>26139</td>\n",
              "      <td>Hybrid</td>\n",
              "      <td>135</td>\n",
              "      <td>470.8</td>\n",
              "      <td>0.0</td>\n",
              "    </tr>\n",
              "    <tr>\n",
              "      <th>5745</th>\n",
              "      <td>i3</td>\n",
              "      <td>2017</td>\n",
              "      <td>19000</td>\n",
              "      <td>Automatic</td>\n",
              "      <td>23983</td>\n",
              "      <td>Hybrid</td>\n",
              "      <td>0</td>\n",
              "      <td>470.8</td>\n",
              "      <td>0.0</td>\n",
              "    </tr>\n",
              "    <tr>\n",
              "      <th>5790</th>\n",
              "      <td>i3</td>\n",
              "      <td>2014</td>\n",
              "      <td>14182</td>\n",
              "      <td>Automatic</td>\n",
              "      <td>37161</td>\n",
              "      <td>Hybrid</td>\n",
              "      <td>0</td>\n",
              "      <td>470.8</td>\n",
              "      <td>0.0</td>\n",
              "    </tr>\n",
              "    <tr>\n",
              "      <th>5846</th>\n",
              "      <td>i3</td>\n",
              "      <td>2017</td>\n",
              "      <td>21500</td>\n",
              "      <td>Automatic</td>\n",
              "      <td>10900</td>\n",
              "      <td>Hybrid</td>\n",
              "      <td>140</td>\n",
              "      <td>470.8</td>\n",
              "      <td>0.0</td>\n",
              "    </tr>\n",
              "    <tr>\n",
              "      <th>6070</th>\n",
              "      <td>i3</td>\n",
              "      <td>2017</td>\n",
              "      <td>23751</td>\n",
              "      <td>Automatic</td>\n",
              "      <td>28169</td>\n",
              "      <td>Hybrid</td>\n",
              "      <td>0</td>\n",
              "      <td>470.8</td>\n",
              "      <td>0.0</td>\n",
              "    </tr>\n",
              "    <tr>\n",
              "      <th>6280</th>\n",
              "      <td>i3</td>\n",
              "      <td>2017</td>\n",
              "      <td>22999</td>\n",
              "      <td>Automatic</td>\n",
              "      <td>3976</td>\n",
              "      <td>Hybrid</td>\n",
              "      <td>135</td>\n",
              "      <td>470.8</td>\n",
              "      <td>0.0</td>\n",
              "    </tr>\n",
              "    <tr>\n",
              "      <th>6814</th>\n",
              "      <td>i3</td>\n",
              "      <td>2017</td>\n",
              "      <td>21494</td>\n",
              "      <td>Automatic</td>\n",
              "      <td>16867</td>\n",
              "      <td>Hybrid</td>\n",
              "      <td>135</td>\n",
              "      <td>470.8</td>\n",
              "      <td>0.0</td>\n",
              "    </tr>\n",
              "    <tr>\n",
              "      <th>6874</th>\n",
              "      <td>i3</td>\n",
              "      <td>2016</td>\n",
              "      <td>15990</td>\n",
              "      <td>Automatic</td>\n",
              "      <td>68000</td>\n",
              "      <td>Hybrid</td>\n",
              "      <td>0</td>\n",
              "      <td>470.8</td>\n",
              "      <td>0.0</td>\n",
              "    </tr>\n",
              "    <tr>\n",
              "      <th>6876</th>\n",
              "      <td>i3</td>\n",
              "      <td>2016</td>\n",
              "      <td>14900</td>\n",
              "      <td>Automatic</td>\n",
              "      <td>59945</td>\n",
              "      <td>Hybrid</td>\n",
              "      <td>0</td>\n",
              "      <td>470.8</td>\n",
              "      <td>0.0</td>\n",
              "    </tr>\n",
              "    <tr>\n",
              "      <th>6961</th>\n",
              "      <td>i3</td>\n",
              "      <td>2017</td>\n",
              "      <td>20495</td>\n",
              "      <td>Automatic</td>\n",
              "      <td>20082</td>\n",
              "      <td>Hybrid</td>\n",
              "      <td>135</td>\n",
              "      <td>470.8</td>\n",
              "      <td>0.0</td>\n",
              "    </tr>\n",
              "    <tr>\n",
              "      <th>7047</th>\n",
              "      <td>i3</td>\n",
              "      <td>2017</td>\n",
              "      <td>19948</td>\n",
              "      <td>Automatic</td>\n",
              "      <td>20929</td>\n",
              "      <td>Hybrid</td>\n",
              "      <td>135</td>\n",
              "      <td>470.8</td>\n",
              "      <td>0.0</td>\n",
              "    </tr>\n",
              "    <tr>\n",
              "      <th>7084</th>\n",
              "      <td>i3</td>\n",
              "      <td>2017</td>\n",
              "      <td>22495</td>\n",
              "      <td>Automatic</td>\n",
              "      <td>21025</td>\n",
              "      <td>Hybrid</td>\n",
              "      <td>0</td>\n",
              "      <td>470.8</td>\n",
              "      <td>0.0</td>\n",
              "    </tr>\n",
              "    <tr>\n",
              "      <th>7254</th>\n",
              "      <td>i3</td>\n",
              "      <td>2016</td>\n",
              "      <td>19875</td>\n",
              "      <td>Automatic</td>\n",
              "      <td>20013</td>\n",
              "      <td>Hybrid</td>\n",
              "      <td>0</td>\n",
              "      <td>470.8</td>\n",
              "      <td>0.0</td>\n",
              "    </tr>\n",
              "    <tr>\n",
              "      <th>7299</th>\n",
              "      <td>i3</td>\n",
              "      <td>2017</td>\n",
              "      <td>21495</td>\n",
              "      <td>Automatic</td>\n",
              "      <td>24041</td>\n",
              "      <td>Hybrid</td>\n",
              "      <td>0</td>\n",
              "      <td>470.8</td>\n",
              "      <td>0.0</td>\n",
              "    </tr>\n",
              "    <tr>\n",
              "      <th>7347</th>\n",
              "      <td>i3</td>\n",
              "      <td>2017</td>\n",
              "      <td>19895</td>\n",
              "      <td>Automatic</td>\n",
              "      <td>29851</td>\n",
              "      <td>Hybrid</td>\n",
              "      <td>0</td>\n",
              "      <td>470.8</td>\n",
              "      <td>0.0</td>\n",
              "    </tr>\n",
              "    <tr>\n",
              "      <th>7422</th>\n",
              "      <td>1 Series</td>\n",
              "      <td>2017</td>\n",
              "      <td>12800</td>\n",
              "      <td>Manual</td>\n",
              "      <td>18067</td>\n",
              "      <td>Petrol</td>\n",
              "      <td>20</td>\n",
              "      <td>68.9</td>\n",
              "      <td>0.0</td>\n",
              "    </tr>\n",
              "    <tr>\n",
              "      <th>7452</th>\n",
              "      <td>3 Series</td>\n",
              "      <td>2018</td>\n",
              "      <td>18000</td>\n",
              "      <td>Automatic</td>\n",
              "      <td>21057</td>\n",
              "      <td>Diesel</td>\n",
              "      <td>150</td>\n",
              "      <td>64.2</td>\n",
              "      <td>0.0</td>\n",
              "    </tr>\n",
              "    <tr>\n",
              "      <th>7796</th>\n",
              "      <td>i3</td>\n",
              "      <td>2016</td>\n",
              "      <td>19850</td>\n",
              "      <td>Automatic</td>\n",
              "      <td>19995</td>\n",
              "      <td>Hybrid</td>\n",
              "      <td>0</td>\n",
              "      <td>470.8</td>\n",
              "      <td>0.0</td>\n",
              "    </tr>\n",
              "    <tr>\n",
              "      <th>8375</th>\n",
              "      <td>i3</td>\n",
              "      <td>2017</td>\n",
              "      <td>18999</td>\n",
              "      <td>Automatic</td>\n",
              "      <td>20321</td>\n",
              "      <td>Electric</td>\n",
              "      <td>135</td>\n",
              "      <td>470.8</td>\n",
              "      <td>0.0</td>\n",
              "    </tr>\n",
              "    <tr>\n",
              "      <th>8400</th>\n",
              "      <td>i3</td>\n",
              "      <td>2016</td>\n",
              "      <td>18999</td>\n",
              "      <td>Automatic</td>\n",
              "      <td>9990</td>\n",
              "      <td>Electric</td>\n",
              "      <td>0</td>\n",
              "      <td>470.8</td>\n",
              "      <td>0.0</td>\n",
              "    </tr>\n",
              "    <tr>\n",
              "      <th>8599</th>\n",
              "      <td>1 Series</td>\n",
              "      <td>2017</td>\n",
              "      <td>13500</td>\n",
              "      <td>Manual</td>\n",
              "      <td>16681</td>\n",
              "      <td>Diesel</td>\n",
              "      <td>150</td>\n",
              "      <td>68.9</td>\n",
              "      <td>0.0</td>\n",
              "    </tr>\n",
              "    <tr>\n",
              "      <th>8697</th>\n",
              "      <td>1 Series</td>\n",
              "      <td>2001</td>\n",
              "      <td>13000</td>\n",
              "      <td>Manual</td>\n",
              "      <td>22633</td>\n",
              "      <td>Petrol</td>\n",
              "      <td>125</td>\n",
              "      <td>53.3</td>\n",
              "      <td>0.0</td>\n",
              "    </tr>\n",
              "    <tr>\n",
              "      <th>8699</th>\n",
              "      <td>1 Series</td>\n",
              "      <td>2017</td>\n",
              "      <td>12800</td>\n",
              "      <td>Manual</td>\n",
              "      <td>30521</td>\n",
              "      <td>Diesel</td>\n",
              "      <td>145</td>\n",
              "      <td>68.9</td>\n",
              "      <td>0.0</td>\n",
              "    </tr>\n",
              "    <tr>\n",
              "      <th>8701</th>\n",
              "      <td>3 Series</td>\n",
              "      <td>2018</td>\n",
              "      <td>18000</td>\n",
              "      <td>Automatic</td>\n",
              "      <td>23611</td>\n",
              "      <td>Diesel</td>\n",
              "      <td>150</td>\n",
              "      <td>64.2</td>\n",
              "      <td>0.0</td>\n",
              "    </tr>\n",
              "    <tr>\n",
              "      <th>8708</th>\n",
              "      <td>3 Series</td>\n",
              "      <td>2018</td>\n",
              "      <td>18000</td>\n",
              "      <td>Automatic</td>\n",
              "      <td>24716</td>\n",
              "      <td>Diesel</td>\n",
              "      <td>150</td>\n",
              "      <td>64.2</td>\n",
              "      <td>0.0</td>\n",
              "    </tr>\n",
              "    <tr>\n",
              "      <th>8710</th>\n",
              "      <td>1 Series</td>\n",
              "      <td>2016</td>\n",
              "      <td>12400</td>\n",
              "      <td>Manual</td>\n",
              "      <td>24528</td>\n",
              "      <td>Diesel</td>\n",
              "      <td>20</td>\n",
              "      <td>68.9</td>\n",
              "      <td>0.0</td>\n",
              "    </tr>\n",
              "    <tr>\n",
              "      <th>8735</th>\n",
              "      <td>2 Series</td>\n",
              "      <td>2016</td>\n",
              "      <td>15000</td>\n",
              "      <td>Automatic</td>\n",
              "      <td>17097</td>\n",
              "      <td>Diesel</td>\n",
              "      <td>20</td>\n",
              "      <td>68.9</td>\n",
              "      <td>0.0</td>\n",
              "    </tr>\n",
              "    <tr>\n",
              "      <th>8934</th>\n",
              "      <td>2 Series</td>\n",
              "      <td>2015</td>\n",
              "      <td>14700</td>\n",
              "      <td>Automatic</td>\n",
              "      <td>32882</td>\n",
              "      <td>Diesel</td>\n",
              "      <td>125</td>\n",
              "      <td>60.1</td>\n",
              "      <td>0.0</td>\n",
              "    </tr>\n",
              "    <tr>\n",
              "      <th>8955</th>\n",
              "      <td>3 Series</td>\n",
              "      <td>2018</td>\n",
              "      <td>18000</td>\n",
              "      <td>Automatic</td>\n",
              "      <td>24240</td>\n",
              "      <td>Diesel</td>\n",
              "      <td>150</td>\n",
              "      <td>64.2</td>\n",
              "      <td>0.0</td>\n",
              "    </tr>\n",
              "    <tr>\n",
              "      <th>9259</th>\n",
              "      <td>i3</td>\n",
              "      <td>2015</td>\n",
              "      <td>12500</td>\n",
              "      <td>Automatic</td>\n",
              "      <td>79830</td>\n",
              "      <td>Hybrid</td>\n",
              "      <td>0</td>\n",
              "      <td>470.8</td>\n",
              "      <td>0.0</td>\n",
              "    </tr>\n",
              "    <tr>\n",
              "      <th>9924</th>\n",
              "      <td>i3</td>\n",
              "      <td>2016</td>\n",
              "      <td>16500</td>\n",
              "      <td>Automatic</td>\n",
              "      <td>35446</td>\n",
              "      <td>Hybrid</td>\n",
              "      <td>0</td>\n",
              "      <td>470.8</td>\n",
              "      <td>0.0</td>\n",
              "    </tr>\n",
              "    <tr>\n",
              "      <th>9981</th>\n",
              "      <td>X5</td>\n",
              "      <td>2016</td>\n",
              "      <td>39948</td>\n",
              "      <td>Automatic</td>\n",
              "      <td>49000</td>\n",
              "      <td>Petrol</td>\n",
              "      <td>570</td>\n",
              "      <td>25.4</td>\n",
              "      <td>0.0</td>\n",
              "    </tr>\n",
              "  </tbody>\n",
              "</table>\n",
              "</div>"
            ],
            "text/plain": [
              "          model  year  price transmission  ...  fuelType  tax    mpg  engineSize\n",
              "621          i3  2017  19998    Automatic  ...    Hybrid  140  470.8         0.0\n",
              "778          i3  2017  19998    Automatic  ...    Hybrid    0  470.8         0.0\n",
              "780          i3  2017  21898    Automatic  ...    Hybrid    0  470.8         0.0\n",
              "1866         i3  2017  19980    Automatic  ...    Hybrid  140  470.8         0.0\n",
              "2352         i3  2016  19490    Automatic  ...    Hybrid    0  470.8         0.0\n",
              "3277         i3  2016  16482    Automatic  ...    Hybrid    0  470.8         0.0\n",
              "3628         i3  2015  14285    Automatic  ...    Hybrid    0  470.8         0.0\n",
              "3913         i3  2017  18500    Automatic  ...    Hybrid    0  470.8         0.0\n",
              "4100         i3  2017  19495    Automatic  ...    Hybrid  135  470.8         0.0\n",
              "4109         i3  2015  17481    Automatic  ...    Hybrid    0  470.8         0.0\n",
              "4211         i3  2015  15498    Automatic  ...    Hybrid    0  470.8         0.0\n",
              "4749         i3  2014  15450    Automatic  ...    Hybrid    0  470.8         0.0\n",
              "4866         i3  2014  14495    Automatic  ...    Hybrid    0  470.8         0.0\n",
              "5176         i3  2017  21444    Automatic  ...    Hybrid    0  470.8         0.0\n",
              "5502         i3  2017  18995    Automatic  ...    Hybrid    0  470.8         0.0\n",
              "5620         i3  2017  21490    Automatic  ...    Hybrid  135  470.8         0.0\n",
              "5745         i3  2017  19000    Automatic  ...    Hybrid    0  470.8         0.0\n",
              "5790         i3  2014  14182    Automatic  ...    Hybrid    0  470.8         0.0\n",
              "5846         i3  2017  21500    Automatic  ...    Hybrid  140  470.8         0.0\n",
              "6070         i3  2017  23751    Automatic  ...    Hybrid    0  470.8         0.0\n",
              "6280         i3  2017  22999    Automatic  ...    Hybrid  135  470.8         0.0\n",
              "6814         i3  2017  21494    Automatic  ...    Hybrid  135  470.8         0.0\n",
              "6874         i3  2016  15990    Automatic  ...    Hybrid    0  470.8         0.0\n",
              "6876         i3  2016  14900    Automatic  ...    Hybrid    0  470.8         0.0\n",
              "6961         i3  2017  20495    Automatic  ...    Hybrid  135  470.8         0.0\n",
              "7047         i3  2017  19948    Automatic  ...    Hybrid  135  470.8         0.0\n",
              "7084         i3  2017  22495    Automatic  ...    Hybrid    0  470.8         0.0\n",
              "7254         i3  2016  19875    Automatic  ...    Hybrid    0  470.8         0.0\n",
              "7299         i3  2017  21495    Automatic  ...    Hybrid    0  470.8         0.0\n",
              "7347         i3  2017  19895    Automatic  ...    Hybrid    0  470.8         0.0\n",
              "7422   1 Series  2017  12800       Manual  ...    Petrol   20   68.9         0.0\n",
              "7452   3 Series  2018  18000    Automatic  ...    Diesel  150   64.2         0.0\n",
              "7796         i3  2016  19850    Automatic  ...    Hybrid    0  470.8         0.0\n",
              "8375         i3  2017  18999    Automatic  ...  Electric  135  470.8         0.0\n",
              "8400         i3  2016  18999    Automatic  ...  Electric    0  470.8         0.0\n",
              "8599   1 Series  2017  13500       Manual  ...    Diesel  150   68.9         0.0\n",
              "8697   1 Series  2001  13000       Manual  ...    Petrol  125   53.3         0.0\n",
              "8699   1 Series  2017  12800       Manual  ...    Diesel  145   68.9         0.0\n",
              "8701   3 Series  2018  18000    Automatic  ...    Diesel  150   64.2         0.0\n",
              "8708   3 Series  2018  18000    Automatic  ...    Diesel  150   64.2         0.0\n",
              "8710   1 Series  2016  12400       Manual  ...    Diesel   20   68.9         0.0\n",
              "8735   2 Series  2016  15000    Automatic  ...    Diesel   20   68.9         0.0\n",
              "8934   2 Series  2015  14700    Automatic  ...    Diesel  125   60.1         0.0\n",
              "8955   3 Series  2018  18000    Automatic  ...    Diesel  150   64.2         0.0\n",
              "9259         i3  2015  12500    Automatic  ...    Hybrid    0  470.8         0.0\n",
              "9924         i3  2016  16500    Automatic  ...    Hybrid    0  470.8         0.0\n",
              "9981         X5  2016  39948    Automatic  ...    Petrol  570   25.4         0.0\n",
              "\n",
              "[47 rows x 9 columns]"
            ]
          },
          "metadata": {
            "tags": []
          },
          "execution_count": 26
        }
      ]
    },
    {
      "cell_type": "code",
      "metadata": {
        "id": "pXi0NQ7Z_GPx"
      },
      "source": [
        "df=df.drop(df[df['engineSize']==0.0].index)"
      ],
      "execution_count": null,
      "outputs": []
    },
    {
      "cell_type": "code",
      "metadata": {
        "colab": {
          "base_uri": "https://localhost:8080/"
        },
        "id": "oBfgffLJBShI",
        "outputId": "e183c031-516d-475c-b3c5-0ef1f8d975ab"
      },
      "source": [
        "df['engineSize'].value_counts()"
      ],
      "execution_count": null,
      "outputs": [
        {
          "output_type": "execute_result",
          "data": {
            "text/plain": [
              "2.0    6575\n",
              "3.0    2458\n",
              "1.5    1463\n",
              "1.6     109\n",
              "4.4      79\n",
              "2.5      14\n",
              "0.6       7\n",
              "2.2       6\n",
              "4.0       6\n",
              "1.9       5\n",
              "3.2       5\n",
              "2.8       2\n",
              "6.6       2\n",
              "3.5       1\n",
              "5.0       1\n",
              "1.0       1\n",
              "Name: engineSize, dtype: int64"
            ]
          },
          "metadata": {
            "tags": []
          },
          "execution_count": 28
        }
      ]
    },
    {
      "cell_type": "code",
      "metadata": {
        "colab": {
          "base_uri": "https://localhost:8080/",
          "height": 405
        },
        "id": "J5ZMKneWBciy",
        "outputId": "4ec32e18-b95c-49ee-a8bd-8261d0876e1d"
      },
      "source": [
        "plt.figure(figsize=(10,6))\n",
        "sns.barplot(x='engineSize',y='mpg',data=df,hue='fuelType')"
      ],
      "execution_count": null,
      "outputs": [
        {
          "output_type": "execute_result",
          "data": {
            "text/plain": [
              "<matplotlib.axes._subplots.AxesSubplot at 0x7f95d876add0>"
            ]
          },
          "metadata": {
            "tags": []
          },
          "execution_count": 29
        },
        {
          "output_type": "display_data",
          "data": {
            "image/png": "[encoded data removed]",
            "text/plain": [
              "<Figure size 720x432 with 1 Axes>"
            ]
          },
          "metadata": {
            "tags": [],
            "needs_background": "light"
          }
        }
      ]
    },
    {
      "cell_type": "code",
      "metadata": {
        "colab": {
          "base_uri": "https://localhost:8080/",
          "height": 297
        },
        "id": "lAK_iGmNCz_g",
        "outputId": "c4ae4864-ee0b-47a7-8917-00f3156906b1"
      },
      "source": [
        "df.describe()"
      ],
      "execution_count": null,
      "outputs": [
        {
          "output_type": "execute_result",
          "data": {
            "text/html": [
              "<div>\n",
              "<style scoped>\n",
              "    .dataframe tbody tr th:only-of-type {\n",
              "        vertical-align: middle;\n",
              "    }\n",
              "\n",
              "    .dataframe tbody tr th {\n",
              "        vertical-align: top;\n",
              "    }\n",
              "\n",
              "    .dataframe thead th {\n",
              "        text-align: right;\n",
              "    }\n",
              "</style>\n",
              "<table border=\"1\" class=\"dataframe\">\n",
              "  <thead>\n",
              "    <tr style=\"text-align: right;\">\n",
              "      <th></th>\n",
              "      <th>year</th>\n",
              "      <th>price</th>\n",
              "      <th>mileage</th>\n",
              "      <th>tax</th>\n",
              "      <th>mpg</th>\n",
              "      <th>engineSize</th>\n",
              "    </tr>\n",
              "  </thead>\n",
              "  <tbody>\n",
              "    <tr>\n",
              "      <th>count</th>\n",
              "      <td>10734.000000</td>\n",
              "      <td>10734.000000</td>\n",
              "      <td>10734.000000</td>\n",
              "      <td>10734.000000</td>\n",
              "      <td>10734.000000</td>\n",
              "      <td>10734.000000</td>\n",
              "    </tr>\n",
              "    <tr>\n",
              "      <th>mean</th>\n",
              "      <td>2017.083194</td>\n",
              "      <td>22752.271940</td>\n",
              "      <td>25482.840973</td>\n",
              "      <td>131.986212</td>\n",
              "      <td>55.041914</td>\n",
              "      <td>2.177259</td>\n",
              "    </tr>\n",
              "    <tr>\n",
              "      <th>std</th>\n",
              "      <td>2.347733</td>\n",
              "      <td>11433.174204</td>\n",
              "      <td>25175.708994</td>\n",
              "      <td>61.139719</td>\n",
              "      <td>20.597949</td>\n",
              "      <td>0.534256</td>\n",
              "    </tr>\n",
              "    <tr>\n",
              "      <th>min</th>\n",
              "      <td>1996.000000</td>\n",
              "      <td>1200.000000</td>\n",
              "      <td>1.000000</td>\n",
              "      <td>0.000000</td>\n",
              "      <td>5.500000</td>\n",
              "      <td>0.600000</td>\n",
              "    </tr>\n",
              "    <tr>\n",
              "      <th>25%</th>\n",
              "      <td>2016.000000</td>\n",
              "      <td>14950.000000</td>\n",
              "      <td>5500.250000</td>\n",
              "      <td>135.000000</td>\n",
              "      <td>45.600000</td>\n",
              "      <td>2.000000</td>\n",
              "    </tr>\n",
              "    <tr>\n",
              "      <th>50%</th>\n",
              "      <td>2017.000000</td>\n",
              "      <td>20490.000000</td>\n",
              "      <td>18274.500000</td>\n",
              "      <td>145.000000</td>\n",
              "      <td>53.300000</td>\n",
              "      <td>2.000000</td>\n",
              "    </tr>\n",
              "    <tr>\n",
              "      <th>75%</th>\n",
              "      <td>2019.000000</td>\n",
              "      <td>27950.000000</td>\n",
              "      <td>38227.750000</td>\n",
              "      <td>145.000000</td>\n",
              "      <td>62.800000</td>\n",
              "      <td>2.000000</td>\n",
              "    </tr>\n",
              "    <tr>\n",
              "      <th>max</th>\n",
              "      <td>2020.000000</td>\n",
              "      <td>123456.000000</td>\n",
              "      <td>214000.000000</td>\n",
              "      <td>580.000000</td>\n",
              "      <td>470.800000</td>\n",
              "      <td>6.600000</td>\n",
              "    </tr>\n",
              "  </tbody>\n",
              "</table>\n",
              "</div>"
            ],
            "text/plain": [
              "               year          price  ...           mpg    engineSize\n",
              "count  10734.000000   10734.000000  ...  10734.000000  10734.000000\n",
              "mean    2017.083194   22752.271940  ...     55.041914      2.177259\n",
              "std        2.347733   11433.174204  ...     20.597949      0.534256\n",
              "min     1996.000000    1200.000000  ...      5.500000      0.600000\n",
              "25%     2016.000000   14950.000000  ...     45.600000      2.000000\n",
              "50%     2017.000000   20490.000000  ...     53.300000      2.000000\n",
              "75%     2019.000000   27950.000000  ...     62.800000      2.000000\n",
              "max     2020.000000  123456.000000  ...    470.800000      6.600000\n",
              "\n",
              "[8 rows x 6 columns]"
            ]
          },
          "metadata": {
            "tags": []
          },
          "execution_count": 30
        }
      ]
    },
    {
      "cell_type": "code",
      "metadata": {
        "colab": {
          "base_uri": "https://localhost:8080/",
          "height": 405
        },
        "id": "ijngpRdXC2-k",
        "outputId": "83eff989-0e75-47d2-ecf2-059bdeb48808"
      },
      "source": [
        "plt.figure(figsize=(18,6))\n",
        "sns.barplot(x='year',y='price',data=df)"
      ],
      "execution_count": null,
      "outputs": [
        {
          "output_type": "execute_result",
          "data": {
            "text/plain": [
              "<matplotlib.axes._subplots.AxesSubplot at 0x7f95e13e9f90>"
            ]
          },
          "metadata": {
            "tags": []
          },
          "execution_count": 31
        },
        {
          "output_type": "display_data",
          "data": {
            "image/png": "[encoded data removed]",
            "text/plain": [
              "<Figure size 1296x432 with 1 Axes>"
            ]
          },
          "metadata": {
            "tags": [],
            "needs_background": "light"
          }
        }
      ]
    },
    {
      "cell_type": "code",
      "metadata": {
        "colab": {
          "base_uri": "https://localhost:8080/",
          "height": 402
        },
        "id": "4uiXF1EkDKXh",
        "outputId": "d023f9bb-9109-4e58-e57a-fa3c77f7d4c4"
      },
      "source": [
        "plt.figure(figsize=(10,6))\n",
        "sns.heatmap(df.corr(),annot=True)"
      ],
      "execution_count": null,
      "outputs": [
        {
          "output_type": "execute_result",
          "data": {
            "text/plain": [
              "<matplotlib.axes._subplots.AxesSubplot at 0x7f95d8352c10>"
            ]
          },
          "metadata": {
            "tags": []
          },
          "execution_count": 32
        },
        {
          "output_type": "display_data",
          "data": {
            "image/png": "[encoded data removed]",
            "text/plain": [
              "<Figure size 720x432 with 2 Axes>"
            ]
          },
          "metadata": {
            "tags": [],
            "needs_background": "light"
          }
        }
      ]
    },
    {
      "cell_type": "code",
      "metadata": {
        "id": "mUCuxcsRHwsP"
      },
      "source": [
        "df['net_price']=df['price']+df['tax']"
      ],
      "execution_count": null,
      "outputs": []
    },
    {
      "cell_type": "code",
      "metadata": {
        "id": "uJNQFuGHH2Mq"
      },
      "source": [
        "df=df.drop('tax',axis=1)"
      ],
      "execution_count": null,
      "outputs": []
    },
    {
      "cell_type": "code",
      "metadata": {
        "colab": {
          "base_uri": "https://localhost:8080/",
          "height": 204
        },
        "id": "gqr-YAL8H9Y2",
        "outputId": "617daa3d-7583-430f-f40a-90204d43ace3"
      },
      "source": [
        "df.head()"
      ],
      "execution_count": null,
      "outputs": [
        {
          "output_type": "execute_result",
          "data": {
            "text/html": [
              "<div>\n",
              "<style scoped>\n",
              "    .dataframe tbody tr th:only-of-type {\n",
              "        vertical-align: middle;\n",
              "    }\n",
              "\n",
              "    .dataframe tbody tr th {\n",
              "        vertical-align: top;\n",
              "    }\n",
              "\n",
              "    .dataframe thead th {\n",
              "        text-align: right;\n",
              "    }\n",
              "</style>\n",
              "<table border=\"1\" class=\"dataframe\">\n",
              "  <thead>\n",
              "    <tr style=\"text-align: right;\">\n",
              "      <th></th>\n",
              "      <th>model</th>\n",
              "      <th>year</th>\n",
              "      <th>price</th>\n",
              "      <th>transmission</th>\n",
              "      <th>mileage</th>\n",
              "      <th>fuelType</th>\n",
              "      <th>mpg</th>\n",
              "      <th>engineSize</th>\n",
              "      <th>net_price</th>\n",
              "    </tr>\n",
              "  </thead>\n",
              "  <tbody>\n",
              "    <tr>\n",
              "      <th>0</th>\n",
              "      <td>5 Series</td>\n",
              "      <td>2014</td>\n",
              "      <td>11200</td>\n",
              "      <td>Automatic</td>\n",
              "      <td>67068</td>\n",
              "      <td>Diesel</td>\n",
              "      <td>57.6</td>\n",
              "      <td>2.0</td>\n",
              "      <td>11325</td>\n",
              "    </tr>\n",
              "    <tr>\n",
              "      <th>1</th>\n",
              "      <td>6 Series</td>\n",
              "      <td>2018</td>\n",
              "      <td>27000</td>\n",
              "      <td>Automatic</td>\n",
              "      <td>14827</td>\n",
              "      <td>Petrol</td>\n",
              "      <td>42.8</td>\n",
              "      <td>2.0</td>\n",
              "      <td>27145</td>\n",
              "    </tr>\n",
              "    <tr>\n",
              "      <th>2</th>\n",
              "      <td>5 Series</td>\n",
              "      <td>2016</td>\n",
              "      <td>16000</td>\n",
              "      <td>Automatic</td>\n",
              "      <td>62794</td>\n",
              "      <td>Diesel</td>\n",
              "      <td>51.4</td>\n",
              "      <td>3.0</td>\n",
              "      <td>16160</td>\n",
              "    </tr>\n",
              "    <tr>\n",
              "      <th>3</th>\n",
              "      <td>1 Series</td>\n",
              "      <td>2017</td>\n",
              "      <td>12750</td>\n",
              "      <td>Automatic</td>\n",
              "      <td>26676</td>\n",
              "      <td>Diesel</td>\n",
              "      <td>72.4</td>\n",
              "      <td>1.5</td>\n",
              "      <td>12895</td>\n",
              "    </tr>\n",
              "    <tr>\n",
              "      <th>4</th>\n",
              "      <td>7 Series</td>\n",
              "      <td>2014</td>\n",
              "      <td>14500</td>\n",
              "      <td>Automatic</td>\n",
              "      <td>39554</td>\n",
              "      <td>Diesel</td>\n",
              "      <td>50.4</td>\n",
              "      <td>3.0</td>\n",
              "      <td>14660</td>\n",
              "    </tr>\n",
              "  </tbody>\n",
              "</table>\n",
              "</div>"
            ],
            "text/plain": [
              "       model  year  price transmission  ...  fuelType   mpg  engineSize  net_price\n",
              "0   5 Series  2014  11200    Automatic  ...    Diesel  57.6         2.0      11325\n",
              "1   6 Series  2018  27000    Automatic  ...    Petrol  42.8         2.0      27145\n",
              "2   5 Series  2016  16000    Automatic  ...    Diesel  51.4         3.0      16160\n",
              "3   1 Series  2017  12750    Automatic  ...    Diesel  72.4         1.5      12895\n",
              "4   7 Series  2014  14500    Automatic  ...    Diesel  50.4         3.0      14660\n",
              "\n",
              "[5 rows x 9 columns]"
            ]
          },
          "metadata": {
            "tags": []
          },
          "execution_count": 35
        }
      ]
    },
    {
      "cell_type": "code",
      "metadata": {
        "id": "ln4KWs7_Gy4q"
      },
      "source": [
        "X=df.drop(['net_price','price'],axis=1)\n",
        "y=df.net_price"
      ],
      "execution_count": null,
      "outputs": []
    },
    {
      "cell_type": "code",
      "metadata": {
        "id": "1tA9-VcMJXj1"
      },
      "source": [
        "from sklearn.model_selection import train_test_split\n",
        "x_train,x_test,y_train,y_test=train_test_split(X,y,test_size=0.2,random_state=0)"
      ],
      "execution_count": null,
      "outputs": []
    },
    {
      "cell_type": "code",
      "metadata": {
        "id": "906F3NtxJqzu"
      },
      "source": [
        "cat_cols=[i for i in x_train.columns if x_train[i].dtypes=='O']\n",
        "num_cols=[i for i in x_train.columns if x_train[i].dtypes!='O']"
      ],
      "execution_count": null,
      "outputs": []
    },
    {
      "cell_type": "code",
      "metadata": {
        "colab": {
          "base_uri": "https://localhost:8080/"
        },
        "id": "HADLS93QqUKn",
        "outputId": "c3b2cc45-acb8-4b97-a330-4e1c60fdeae2"
      },
      "source": [
        "x_test['transmission'].value_counts()"
      ],
      "execution_count": null,
      "outputs": [
        {
          "output_type": "execute_result",
          "data": {
            "text/plain": [
              "Semi-Auto    930\n",
              "Automatic    702\n",
              "Manual       515\n",
              "Name: transmission, dtype: int64"
            ]
          },
          "metadata": {
            "tags": []
          },
          "execution_count": 39
        }
      ]
    },
    {
      "cell_type": "code",
      "metadata": {
        "id": "ZlCQppOdKgnb",
        "colab": {
          "base_uri": "https://localhost:8080/"
        },
        "outputId": "3ca6307b-68d0-4900-f04c-e6eaeb780dec"
      },
      "source": [
        "label=LabelEncoder()\n",
        "for i in cat_cols:\n",
        "  x_train[i]=label.fit_transform(x_train[i])\n",
        "  x_test[i]=label.transform(x_test[i])"
      ],
      "execution_count": null,
      "outputs": [
        {
          "output_type": "stream",
          "text": [
            "/usr/local/lib/python3.7/dist-packages/ipykernel_launcher.py:3: SettingWithCopyWarning: \n",
            "A value is trying to be set on a copy of a slice from a DataFrame.\n",
            "Try using .loc[row_indexer,col_indexer] = value instead\n",
            "\n",
            "See the caveats in the documentation: https://pandas.pydata.org/pandas-docs/stable/user_guide/indexing.html#returning-a-view-versus-a-copy\n",
            "  This is separate from the ipykernel package so we can avoid doing imports until\n",
            "/usr/local/lib/python3.7/dist-packages/ipykernel_launcher.py:4: SettingWithCopyWarning: \n",
            "A value is trying to be set on a copy of a slice from a DataFrame.\n",
            "Try using .loc[row_indexer,col_indexer] = value instead\n",
            "\n",
            "See the caveats in the documentation: https://pandas.pydata.org/pandas-docs/stable/user_guide/indexing.html#returning-a-view-versus-a-copy\n",
            "  after removing the cwd from sys.path.\n"
          ],
          "name": "stderr"
        }
      ]
    },
    {
      "cell_type": "code",
      "metadata": {
        "id": "90GuI__9Lo7h"
      },
      "source": [
        "\n",
        "pp=Pipeline([\n",
        "             ('scale',StandardScaler()),\n",
        "             ('trans',PowerTransformer(method='yeo-johnson')),\n",
        "             ('model',RandomForestRegressor(n_estimators=200)),\n",
        "        \n",
        "])"
      ],
      "execution_count": null,
      "outputs": []
    },
    {
      "cell_type": "code",
      "metadata": {
        "id": "Oq2hayGqMXCG"
      },
      "source": [
        "y_pred=pp.fit(x_train,y_train).predict(x_test)"
      ],
      "execution_count": null,
      "outputs": []
    },
    {
      "cell_type": "code",
      "metadata": {
        "colab": {
          "base_uri": "https://localhost:8080/"
        },
        "id": "DVlYTA5GOhtC",
        "outputId": "9dd8ec41-5af8-4979-b0ce-a8f7b86043b0"
      },
      "source": [
        "np.sqrt(mean_squared_error(y_test,y_pred))"
      ],
      "execution_count": null,
      "outputs": [
        {
          "output_type": "execute_result",
          "data": {
            "text/plain": [
              "2348.2120253158146"
            ]
          },
          "metadata": {
            "tags": []
          },
          "execution_count": 66
        }
      ]
    },
    {
      "cell_type": "code",
      "metadata": {
        "id": "MMIl_Roc-Awi"
      },
      "source": [
        ""
      ],
      "execution_count": null,
      "outputs": []
    },
    {
      "cell_type": "code",
      "metadata": {
        "colab": {
          "base_uri": "https://localhost:8080/"
        },
        "id": "Sj6Z6TgkOiSK",
        "outputId": "f7577927-7fe1-4082-dc3c-ea116f9cd1d8"
      },
      "source": [
        "r2_score(y_test,y_pred)"
      ],
      "execution_count": null,
      "outputs": [
        {
          "output_type": "execute_result",
          "data": {
            "text/plain": [
              "0.9599614106426351"
            ]
          },
          "metadata": {
            "tags": []
          },
          "execution_count": 67
        }
      ]
    },
    {
      "cell_type": "code",
      "metadata": {
        "id": "aJzm2815-DFh"
      },
      "source": [
        ""
      ],
      "execution_count": null,
      "outputs": []
    },
    {
      "cell_type": "code",
      "metadata": {
        "id": "QhTiBs-IeY13"
      },
      "source": [
        "from joblib import *\n",
        "from google.colab import files"
      ],
      "execution_count": null,
      "outputs": []
    },
    {
      "cell_type": "code",
      "metadata": {
        "id": "3TjdC_8s3QoQ"
      },
      "source": [
        "def mape(y_test,y_pred):\n",
        "  y_test=np.array(y_test)\n",
        "  return np.mean(np.abs((y_test-y_pred)/y_test))\n"
      ],
      "execution_count": null,
      "outputs": []
    },
    {
      "cell_type": "code",
      "metadata": {
        "colab": {
          "base_uri": "https://localhost:8080/"
        },
        "id": "hmkdfWmW39FL",
        "outputId": "e26ac2ac-2b5b-4f60-df1a-ca948e378bc4"
      },
      "source": [
        "mape(y_test,y_pred)*100"
      ],
      "execution_count": null,
      "outputs": [
        {
          "output_type": "execute_result",
          "data": {
            "text/plain": [
              "7.080304131137762"
            ]
          },
          "metadata": {
            "tags": []
          },
          "execution_count": 68
        }
      ]
    },
    {
      "cell_type": "code",
      "metadata": {
        "id": "1Nqmg_em-L2Z"
      },
      "source": [
        ""
      ],
      "execution_count": null,
      "outputs": []
    },
    {
      "cell_type": "code",
      "metadata": {
        "id": "YSyPq7cQ4ttr"
      },
      "source": [
        ""
      ],
      "execution_count": null,
      "outputs": []
    },
    {
      "cell_type": "code",
      "metadata": {
        "id": "m04sEY4x4rK5"
      },
      "source": [
        ""
      ],
      "execution_count": null,
      "outputs": []
    },
    {
      "cell_type": "code",
      "metadata": {
        "id": "_Uaxdugy4RMo"
      },
      "source": [
        ""
      ],
      "execution_count": null,
      "outputs": []
    },
    {
      "cell_type": "code",
      "metadata": {
        "colab": {
          "base_uri": "https://localhost:8080/"
        },
        "id": "gSjIQbIm3_oT",
        "outputId": "0de45449-b2c4-469e-cfbb-a45740df65f9"
      },
      "source": [
        "y_pred"
      ],
      "execution_count": null,
      "outputs": [
        {
          "output_type": "execute_result",
          "data": {
            "text/plain": [
              "array([27396.345 , 28711.2275, 11307.405 , ..., 14691.79  , 34754.935 ,\n",
              "       37219.935 ])"
            ]
          },
          "metadata": {
            "tags": []
          },
          "execution_count": 53
        }
      ]
    },
    {
      "cell_type": "code",
      "metadata": {
        "id": "ocnfLn6W4LM9"
      },
      "source": [
        ""
      ],
      "execution_count": null,
      "outputs": []
    },
    {
      "cell_type": "code",
      "metadata": {
        "id": "R4Je9e9p4JL6"
      },
      "source": [
        ""
      ],
      "execution_count": null,
      "outputs": []
    },
    {
      "cell_type": "code",
      "metadata": {
        "id": "r6AZQBUw4EvM"
      },
      "source": [
        ""
      ],
      "execution_count": null,
      "outputs": []
    },
    {
      "cell_type": "code",
      "metadata": {
        "id": "2OI5Ldzs3q7S"
      },
      "source": [
        ""
      ],
      "execution_count": null,
      "outputs": []
    },
    {
      "cell_type": "code",
      "metadata": {
        "id": "JCA3EPIUDvbf"
      },
      "source": [
        ""
      ],
      "execution_count": null,
      "outputs": []
    },
    {
      "cell_type": "code",
      "metadata": {
        "id": "iND9xia4Di3d"
      },
      "source": [
        ""
      ],
      "execution_count": null,
      "outputs": []
    },
    {
      "cell_type": "code",
      "metadata": {
        "id": "bjaVqNxwDFW0"
      },
      "source": [
        ""
      ],
      "execution_count": null,
      "outputs": []
    },
    {
      "cell_type": "code",
      "metadata": {
        "id": "JcXk1LB28cI7"
      },
      "source": [
        ""
      ],
      "execution_count": null,
      "outputs": []
    }
  ]
}